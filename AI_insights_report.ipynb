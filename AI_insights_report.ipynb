{
 "cells": [
  {
   "cell_type": "code",
   "execution_count": 1,
   "id": "23c56db7-c0cc-4ef9-a2e3-53099488deef",
   "metadata": {},
   "outputs": [
    {
     "name": "stdout",
     "output_type": "stream",
     "text": [
      "Top issues: [('product', 10), ('want', 5), ('refund', 5), ('device', 5), ('stopped', 5), ('working', 5), ('week', 5), ('user', 5), ('delivery', 5), ('delayed', 5)]\n"
     ]
    }
   ],
   "source": [
    "import pandas as pd\n",
    "from collections import Counter\n",
    "df = pd.read_csv(\"customer_feedback_clean.csv\")\n",
    "neg = df[df['label']=='Negative']\n",
    "words = \" \".join(neg['processed'].astype(str)).split()\n",
    "cnt = Counter(words)\n",
    "top10 = cnt.most_common(10)\n",
    "print(\"Top issues:\", top10)\n"
   ]
  },
  {
   "cell_type": "code",
   "execution_count": null,
   "id": "692c636e-e7a5-48ba-9a2c-1a118bdaf880",
   "metadata": {},
   "outputs": [],
   "source": [
    "import pandas as pd\n",
    "from prophet import Prophet\n",
    "\n",
    "df = pd.read_csv(\"customer_feedback_clean.csv\", parse_dates=['timestamp'] if 'timestamp' in pd.read_csv('customer_feedback_clean.csv').columns else None)\n",
    "if 'timestamp' not in df.columns:\n",
    "    import numpy as np\n",
    "    rng = pd.date_range(end=pd.Timestamp.today(), periods=len(df))\n",
    "    df['timestamp'] = rng\n",
    "score_map = {\"Positive\":1,\"Neutral\":0.5,\"Negative\":0}\n",
    "df['score'] = df['label'].map(score_map)\n",
    "daily = df.groupby(df['timestamp'].dt.date)['score'].mean().reset_index()\n",
    "daily.columns = ['ds','y']\n",
    "m = Prophet()\n",
    "m.fit(daily)\n",
    "future = m.make_future_dataframe(periods=30)\n",
    "forecast = m.predict(future)\n",
    "pred_next_month = forecast.tail(30)['yhat'].mean()\n",
    "print(\"Predicted average satisfaction score next 30 days:\", pred_next_month)\n"
   ]
  }
 ],
 "metadata": {
  "kernelspec": {
   "display_name": "Python 3 (ipykernel)",
   "language": "python",
   "name": "python3"
  },
  "language_info": {
   "codemirror_mode": {
    "name": "ipython",
    "version": 3
   },
   "file_extension": ".py",
   "mimetype": "text/x-python",
   "name": "python",
   "nbconvert_exporter": "python",
   "pygments_lexer": "ipython3",
   "version": "3.11.7"
  }
 },
 "nbformat": 4,
 "nbformat_minor": 5
}
