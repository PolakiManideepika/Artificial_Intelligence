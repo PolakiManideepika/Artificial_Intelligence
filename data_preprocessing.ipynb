{
 "cells": [
  {
   "cell_type": "code",
   "execution_count": 2,
   "id": "943e568b-50c5-4918-926a-42ae970685c4",
   "metadata": {},
   "outputs": [
    {
     "name": "stdout",
     "output_type": "stream",
     "text": [
      "Saved customer_feedback.csv with 1200 rows\n"
     ]
    }
   ],
   "source": [
    "import pandas as pd\n",
    "import random\n",
    "\n",
    "positive = [\n",
    "    \"Excellent service and fast delivery.\",\n",
    "    \"Very satisfied with the product quality.\",\n",
    "    \"Great support team, solved my issue quickly.\",\n",
    "    \"Loved the packaging and product performance.\",\n",
    "    \"Happy with the purchase, will buy again.\"\n",
    "]\n",
    "negative = [\n",
    "    \"Delivery was delayed and the product arrived damaged.\",\n",
    "    \"Very disappointed with the customer service.\",\n",
    "    \"Product quality is poor, not as described.\",\n",
    "    \"I want a refund, the device stopped working in a week.\",\n",
    "    \"Wrong item delivered and support is unresponsive.\"\n",
    "]\n",
    "neutral = [\n",
    "    \"Product is okay, nothing exceptional.\",\n",
    "    \"Average experience, expected better for the price.\",\n",
    "    \"Received the order, will test soon.\",\n",
    "    \"Not sure about the features yet.\",\n",
    "    \"It is acceptable for daily use.\"\n",
    "]\n",
    "\n",
    "def make_feedback(n=1200):\n",
    "    rows = []\n",
    "    for i in range(n):\n",
    "        label = random.choices([\"Positive\",\"Negative\",\"Neutral\"], weights=[0.45,0.35,0.20])[0]\n",
    "        if label==\"Positive\":\n",
    "            text = random.choice(positive)\n",
    "        elif label==\"Negative\":\n",
    "            text = random.choice(negative)\n",
    "        else:\n",
    "            text = random.choice(neutral)\n",
    "        noise = \"\" if random.random()>0.3 else \" \" + random.choice([\"Please help\",\"Thanks\",\"- user\",\"(see order #123)\"])\n",
    "        rows.append({\"id\": i+1, \"feedback\": text + noise, \"label\": label})\n",
    "    return pd.DataFrame(rows)\n",
    "\n",
    "df = make_feedback(1200)\n",
    "df.to_csv(\"customer_feedback.csv\", index=False)\n",
    "print(\"Saved customer_feedback.csv with\", len(df), \"rows\")\n"
   ]
  },
  {
   "cell_type": "code",
   "execution_count": 5,
   "id": "b3b88a2e-83ff-4fc2-917a-1cfc99f15226",
   "metadata": {},
   "outputs": [
    {
     "name": "stdout",
     "output_type": "stream",
     "text": [
      "Cleaned dataset saved as customer_feedback_clean.csv; rows: 75\n"
     ]
    },
    {
     "name": "stderr",
     "output_type": "stream",
     "text": [
      "[nltk_data] Downloading package punkt to\n",
      "[nltk_data]     C:\\Users\\manip\\AppData\\Roaming\\nltk_data...\n",
      "[nltk_data]   Package punkt is already up-to-date!\n",
      "[nltk_data] Downloading package wordnet to\n",
      "[nltk_data]     C:\\Users\\manip\\AppData\\Roaming\\nltk_data...\n",
      "[nltk_data]   Package wordnet is already up-to-date!\n",
      "[nltk_data] Downloading package stopwords to\n",
      "[nltk_data]     C:\\Users\\manip\\AppData\\Roaming\\nltk_data...\n",
      "[nltk_data]   Package stopwords is already up-to-date!\n"
     ]
    }
   ],
   "source": [
    "import pandas as py\n",
    "import re\n",
    "import nltk\n",
    "nltk.download('punkt')\n",
    "nltk.download('wordnet')\n",
    "nltk.download('stopwords')\n",
    "from nltk.corpus import stopwords\n",
    "from nltk.stem import WordNetLemmatizer\n",
    "from nltk.tokenize import word_tokenize\n",
    "\n",
    "df = pd.read_csv(\"customer_feedback.csv\")\n",
    "df = df.drop_duplicates(subset=[\"feedback\"]).reset_index(drop=True)\n",
    "\n",
    "def clean_text(s):\n",
    "    s = str(s).lower()\n",
    "    s = re.sub(r\"http\\S+|www\\S+\",\"\", s)\n",
    "    s = re.sub(r\"[^a-z0-9\\s]\", \" \", s)\n",
    "    s = re.sub(r\"\\s+\", \" \", s).strip()\n",
    "    return s\n",
    "\n",
    "df['clean'] = df['feedback'].apply(clean_text)\n",
    "stop_words = set(stopwords.words('english'))\n",
    "lemmatizer = WordNetLemmatizer()\n",
    "\n",
    "def preprocess_tokens(s):\n",
    "    tokens = word_tokenize(s)\n",
    "    tokens = [t for t in tokens if t not in stop_words and len(t)>1]\n",
    "    tokens = [lemmatizer.lemmatize(t) for t in tokens]\n",
    "    return \" \".join(tokens)\n",
    "\n",
    "df['processed'] = df['clean'].apply(preprocess_tokens)\n",
    "df = df[df['processed'].str.strip()!=''].reset_index(drop=True)\n",
    "\n",
    "df.to_csv(\"customer_feedback_clean.csv\", index=False)\n",
    "print(\"Cleaned dataset saved as customer_feedback_clean.csv; rows:\", len(df))\n"
   ]
  },
  {
   "cell_type": "code",
   "execution_count": null,
   "id": "103755d6-0f34-414c-bddd-33f9cad8efc3",
   "metadata": {},
   "outputs": [],
   "source": []
  }
 ],
 "metadata": {
  "kernelspec": {
   "display_name": "Python 3 (ipykernel)",
   "language": "python",
   "name": "python3"
  },
  "language_info": {
   "codemirror_mode": {
    "name": "ipython",
    "version": 3
   },
   "file_extension": ".py",
   "mimetype": "text/x-python",
   "name": "python",
   "nbconvert_exporter": "python",
   "pygments_lexer": "ipython3",
   "version": "3.11.7"
  }
 },
 "nbformat": 4,
 "nbformat_minor": 5
}
