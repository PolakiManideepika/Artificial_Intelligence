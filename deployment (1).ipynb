{
 "cells": [
  {
   "cell_type": "code",
   "execution_count": null,
   "id": "9847382b-9fba-4db5-9fae-7fdd831e0dae",
   "metadata": {},
   "outputs": [],
   "source": [
    "import streamlit as st\n",
    "import pandas as pd\n",
    "from transformers import pipeline, AutoTokenizer, AutoModelForSequenceClassification\n",
    "from transformers import pipeline as hf_pipeline\n",
    "from transformers import AutoTokenizer\n",
    "from pathlib import Path\n",
    "import joblib\n",
    "\n",
    "st.title(\"Intelligent Customer Feedback Analysis\")\n",
    "\n",
    "uploaded_file = st.file_uploader(\"Upload CSV with column 'feedback'\", type=[\"csv\"])\n",
    "if uploaded_file:\n",
    "    df = pd.read_csv(uploaded_file)\n",
    "    st.write(\"Preview:\")\n",
    "    st.dataframe(df.head())\n",
    "    if st.button(\"Analyze\"):\n",
    "        with st.spinner(\"Loading models...\"):\n",
    "            sentiment = hf_pipeline(\"sentiment-analysis\", model=\"distilbert-base-uncased\", tokenizer=\"distilbert-base-uncased\")\n",
    "            summarizer = hf_pipeline(\"summarization\", model=\"facebook/bart-large-cnn\")\n",
    "        st.success(\"Models loaded\")\n",
    "        results = []\n",
    "        for idx, row in df.head(40).iterrows():\n",
    "            text = str(row['feedback'])\n",
    "            s = sentiment(text)[0]\n",
    "            sum_short = summarizer(text, max_length=25, min_length=8, do_sample=False)[0]['summary_text']\n",
    "            results.append({\"feedback\": text, \"label\": s['label'], \"score\": s['score'], \"summary\": sum_short})\n",
    "\n",
    "        st.write(pd.DataFrame(results))\n"
   ]
  }
 ],
 "metadata": {
  "kernelspec": {
   "display_name": "Python 3 (ipykernel)",
   "language": "python",
   "name": "python3"
  },
  "language_info": {
   "codemirror_mode": {
    "name": "ipython",
    "version": 3
   },
   "file_extension": ".py",
   "mimetype": "text/x-python",
   "name": "python",
   "nbconvert_exporter": "python",
   "pygments_lexer": "ipython3",
   "version": "3.11.7"
  }
 },
 "nbformat": 4,
 "nbformat_minor": 5
}
